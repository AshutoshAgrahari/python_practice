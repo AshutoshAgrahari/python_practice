{
 "cells": [
  {
   "cell_type": "code",
   "execution_count": 1,
   "metadata": {
    "collapsed": true
   },
   "outputs": [],
   "source": [
    "# Import numpy symbols to scipy name space\n",
    "import numpy as _num\n",
    "linalg = None\n",
    "from numpy import *\n",
    "from numpy.random import rand, randn\n",
    "from numpy.fft import fft, ifft\n",
    "from numpy.lib.scimath import *\n",
    "\n",
    "__all__  = []\n",
    "__all__ += _num.__all__\n",
    "__all__ += ['randn', 'rand', 'fft', 'ifft']\n",
    "\n",
    "del _num\n",
    "# Remove the linalg imported from numpy so that the scipy.linalg package can be\n",
    "# imported.\n",
    "del linalg\n",
    "__all__.remove('linalg')"
   ]
  }
 ],
 "metadata": {
  "kernelspec": {
   "display_name": "Python [default]",
   "language": "python",
   "name": "python3"
  },
  "language_info": {
   "codemirror_mode": {
    "name": "ipython",
    "version": 3
   },
   "file_extension": ".py",
   "mimetype": "text/x-python",
   "name": "python",
   "nbconvert_exporter": "python",
   "pygments_lexer": "ipython3",
   "version": "3.5.3"
  }
 },
 "nbformat": 4,
 "nbformat_minor": 2
}
